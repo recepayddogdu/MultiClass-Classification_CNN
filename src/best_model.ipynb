{
  "nbformat": 4,
  "nbformat_minor": 0,
  "metadata": {
    "colab": {
      "name": "Cifar100.ipynb",
      "provenance": [],
      "collapsed_sections": []
    },
    "kernelspec": {
      "name": "python3",
      "display_name": "Python 3"
    },
    "accelerator": "GPU"
  },
  "cells": [
    {
      "cell_type": "code",
      "metadata": {
        "id": "OTMU6DULKooo"
      },
      "source": [
        "#/content/drive/MyDrive/Works/Deep_Learning/Cifar100/data\n",
        "!cp -r /content/drive/MyDrive/Works/Deep_Learning/Cifar100/data.zip .\n",
        "!unzip -q data.zip \n",
        "!rm data.zip"
      ],
      "execution_count": null,
      "outputs": []
    },
    {
      "cell_type": "code",
      "metadata": {
        "id": "kFtmg6OU5ZnO"
      },
      "source": [
        ""
      ],
      "execution_count": null,
      "outputs": []
    },
    {
      "cell_type": "code",
      "metadata": {
        "id": "EIie1g5STFBC",
        "colab": {
          "base_uri": "https://localhost:8080/",
          "height": 1000
        },
        "outputId": "c19d7313-454c-4e6c-8c03-d948e857410c"
      },
      "source": [
        "from tensorflow.keras.preprocessing.image import ImageDataGenerator\n",
        "from tensorflow.keras.preprocessing import image\n",
        "from matplotlib import pyplot as plt\n",
        "from keras.datasets import cifar100\n",
        "from keras import layers\n",
        "from keras import models\n",
        "import tensorflow as tf\n",
        "import numpy as np\n",
        "import cv2\n",
        "import os\n",
        "from keras import optimizers\n",
        "from keras.callbacks import CSVLogger\n",
        "\n",
        "\n",
        "train_dir='data/train'\n",
        "test_dir='data/test'\n",
        "\n",
        "model=models.Sequential()\n",
        "\n",
        "model.add(layers.Conv2D(32,(3,3),\n",
        "                        padding='same',\n",
        "                        activation='relu',\n",
        "                        input_shape=(32,32,3)))\n",
        "\n",
        "model.add(layers.Conv2D(32,(3, 3),\n",
        "                         padding='same',\n",
        "                         activation='relu'))\n",
        "\n",
        "model.add(layers.MaxPooling2D((2, 2)))\n",
        "\n",
        "model.add(layers.Conv2D(64,(3, 3),\n",
        "                         padding='same',\n",
        "                         activation='relu'))\n",
        "\n",
        "model.add(layers.Conv2D(64,(3,3),\n",
        "                        padding='same',\n",
        "                        activation='relu'))\n",
        "\n",
        "model.add(layers.MaxPooling2D((2, 2)))\n",
        "\n",
        "model.add(layers.Dropout(0.5))\n",
        "\n",
        "#Dense layer:\n",
        "model.add(layers.Flatten())\n",
        "\n",
        "model.add(layers.Dense(256, activation='relu'))\n",
        "\n",
        "model.add(layers.Dense(6, activation='softmax'))\n",
        "\n",
        "model.compile(loss='categorical_crossentropy', \n",
        "              optimizer=optimizers.Adamax(lr=5e-3), \n",
        "              metrics=['acc'])\n",
        "\n",
        "#dizayn edilen modelin içinde kaç tane parametre var onu görmemizi sağlar\n",
        "print(model.summary())\n",
        "\n",
        "train_datagen=ImageDataGenerator(rescale=1./255)\n",
        "test_datagen= ImageDataGenerator(rescale=1./255)\n",
        "\n",
        "\n",
        "\n",
        "datagen = ImageDataGenerator(\n",
        "              zoom_range=0.2,\n",
        "              horizontal_flip=True,\n",
        "              rescale=1./255)\n",
        "\n",
        "train_generator = datagen.flow_from_directory(train_dir,\n",
        "                                          target_size = (32,32),\n",
        "                                          batch_size =20,\n",
        "                                          class_mode = 'categorical')\n",
        " \n",
        "test_generator = datagen.flow_from_directory(test_dir,\n",
        "                                          target_size = (32,32),\n",
        "                                          batch_size = 20,\n",
        "                                          class_mode = 'categorical')\n",
        "\n",
        "#csv_logger = CSVLogger('model/training_end.log', separator=',', append=False)\n",
        "\n",
        "history = model.fit_generator(train_generator,\n",
        "                              steps_per_epoch=150,\n",
        "                              epochs=30,\n",
        "                              #callbacks=[csv_logger],\n",
        "                              validation_data=test_generator,\n",
        "                              validation_steps=30) \n",
        "\n",
        "model.save('model/best_model_end.h5')\n",
        "\n",
        "def plot_acc_loss(x):  \n",
        "  acc = x.history[\"acc\"]\n",
        "  val_acc = x.history[\"val_acc\"]\n",
        "  loss = x.history[\"loss\"]\n",
        "  val_loss = x.history[\"val_loss\"]\n",
        "  print(\"acc =\", acc[-1])\n",
        "  print(\"val_acc = \", val_acc[-1])\n",
        "  print(\"loss =\", loss[-1])\n",
        "  print(\"val_loss =\", val_loss[-1])\n",
        "  epochs = range(1, len(acc) + 1)\n",
        "  fig = plt.figure()\n",
        "  plt.subplot(2,1,1)\n",
        "  plt.plot(epochs, acc, \"bo\", label=\"Training acc\")\n",
        "  plt.plot(epochs, val_acc, \"b\", label=\"Validation acc\")\n",
        "  plt.title(\"Training and Validation Accuracy\")\n",
        "\n",
        "  plt.subplot(2,1,2)\n",
        "  plt.plot(epochs, loss, \"bo\", label=\"Training loss\")\n",
        "  plt.plot(epochs, val_loss, \"b\", label=\"Validation loss\")\n",
        "  plt.title(\"Training and Validation Loss\")\n",
        "  plt.legend()\n",
        "  fig.tight_layout()\n",
        "  plt.show()\n",
        "  fig.savefig(\"graph.png\")\n",
        "  \n",
        "\n",
        "plot_acc_loss(history)"
      ],
      "execution_count": null,
      "outputs": [
        {
          "output_type": "stream",
          "text": [
            "Model: \"sequential_2\"\n",
            "_________________________________________________________________\n",
            "Layer (type)                 Output Shape              Param #   \n",
            "=================================================================\n",
            "conv2d_8 (Conv2D)            (None, 32, 32, 32)        896       \n",
            "_________________________________________________________________\n",
            "conv2d_9 (Conv2D)            (None, 32, 32, 32)        9248      \n",
            "_________________________________________________________________\n",
            "max_pooling2d_4 (MaxPooling2 (None, 16, 16, 32)        0         \n",
            "_________________________________________________________________\n",
            "conv2d_10 (Conv2D)           (None, 16, 16, 64)        18496     \n",
            "_________________________________________________________________\n",
            "conv2d_11 (Conv2D)           (None, 16, 16, 64)        36928     \n",
            "_________________________________________________________________\n",
            "max_pooling2d_5 (MaxPooling2 (None, 8, 8, 64)          0         \n",
            "_________________________________________________________________\n",
            "dropout_2 (Dropout)          (None, 8, 8, 64)          0         \n",
            "_________________________________________________________________\n",
            "flatten_2 (Flatten)          (None, 4096)              0         \n",
            "_________________________________________________________________\n",
            "dense_4 (Dense)              (None, 256)               1048832   \n",
            "_________________________________________________________________\n",
            "dense_5 (Dense)              (None, 6)                 1542      \n",
            "=================================================================\n",
            "Total params: 1,115,942\n",
            "Trainable params: 1,115,942\n",
            "Non-trainable params: 0\n",
            "_________________________________________________________________\n",
            "None\n",
            "Found 3000 images belonging to 6 classes.\n",
            "Found 600 images belonging to 6 classes.\n"
          ],
          "name": "stdout"
        },
        {
          "output_type": "stream",
          "text": [
            "/usr/local/lib/python3.6/dist-packages/tensorflow/python/keras/engine/training.py:1844: UserWarning: `Model.fit_generator` is deprecated and will be removed in a future version. Please use `Model.fit`, which supports generators.\n",
            "  warnings.warn('`Model.fit_generator` is deprecated and '\n"
          ],
          "name": "stderr"
        },
        {
          "output_type": "stream",
          "text": [
            "Epoch 1/30\n",
            "150/150 [==============================] - 3s 18ms/step - loss: 1.6519 - acc: 0.2936 - val_loss: 1.1861 - val_acc: 0.5817\n",
            "Epoch 2/30\n",
            "150/150 [==============================] - 3s 17ms/step - loss: 1.1428 - acc: 0.5594 - val_loss: 1.0800 - val_acc: 0.5867\n",
            "Epoch 3/30\n",
            "150/150 [==============================] - 3s 17ms/step - loss: 1.0408 - acc: 0.6081 - val_loss: 0.9221 - val_acc: 0.6667\n",
            "Epoch 4/30\n",
            "150/150 [==============================] - 3s 18ms/step - loss: 0.9192 - acc: 0.6645 - val_loss: 0.8396 - val_acc: 0.6933\n",
            "Epoch 5/30\n",
            "150/150 [==============================] - 3s 17ms/step - loss: 0.9065 - acc: 0.6735 - val_loss: 0.7192 - val_acc: 0.7517\n",
            "Epoch 6/30\n",
            "150/150 [==============================] - 3s 17ms/step - loss: 0.7679 - acc: 0.7109 - val_loss: 0.6946 - val_acc: 0.7483\n",
            "Epoch 7/30\n",
            "150/150 [==============================] - 3s 17ms/step - loss: 0.7261 - acc: 0.7289 - val_loss: 0.6780 - val_acc: 0.7650\n",
            "Epoch 8/30\n",
            "150/150 [==============================] - 3s 18ms/step - loss: 0.6908 - acc: 0.7517 - val_loss: 0.7635 - val_acc: 0.7467\n",
            "Epoch 9/30\n",
            "150/150 [==============================] - 3s 17ms/step - loss: 0.6279 - acc: 0.7746 - val_loss: 0.6530 - val_acc: 0.7817\n",
            "Epoch 10/30\n",
            "150/150 [==============================] - 3s 17ms/step - loss: 0.6209 - acc: 0.7681 - val_loss: 0.5593 - val_acc: 0.8017\n",
            "Epoch 11/30\n",
            "150/150 [==============================] - 3s 17ms/step - loss: 0.5376 - acc: 0.8056 - val_loss: 0.6003 - val_acc: 0.7950\n",
            "Epoch 12/30\n",
            "150/150 [==============================] - 3s 17ms/step - loss: 0.5462 - acc: 0.8043 - val_loss: 0.6053 - val_acc: 0.7833\n",
            "Epoch 13/30\n",
            "150/150 [==============================] - 3s 17ms/step - loss: 0.5121 - acc: 0.8203 - val_loss: 0.6111 - val_acc: 0.7983\n",
            "Epoch 14/30\n",
            "150/150 [==============================] - 3s 17ms/step - loss: 0.4898 - acc: 0.8202 - val_loss: 0.6009 - val_acc: 0.8083\n",
            "Epoch 15/30\n",
            "150/150 [==============================] - 3s 17ms/step - loss: 0.4833 - acc: 0.8300 - val_loss: 0.5316 - val_acc: 0.8200\n",
            "Epoch 16/30\n",
            "150/150 [==============================] - 3s 18ms/step - loss: 0.4218 - acc: 0.8423 - val_loss: 0.5007 - val_acc: 0.8333\n",
            "Epoch 17/30\n",
            "150/150 [==============================] - 3s 18ms/step - loss: 0.4019 - acc: 0.8460 - val_loss: 0.5146 - val_acc: 0.8150\n",
            "Epoch 18/30\n",
            "150/150 [==============================] - 3s 17ms/step - loss: 0.4002 - acc: 0.8520 - val_loss: 0.5475 - val_acc: 0.8333\n",
            "Epoch 19/30\n",
            "150/150 [==============================] - 3s 17ms/step - loss: 0.4136 - acc: 0.8480 - val_loss: 0.4872 - val_acc: 0.8417\n",
            "Epoch 20/30\n",
            "150/150 [==============================] - 3s 17ms/step - loss: 0.3666 - acc: 0.8725 - val_loss: 0.5535 - val_acc: 0.8133\n",
            "Epoch 21/30\n",
            "150/150 [==============================] - 3s 18ms/step - loss: 0.3661 - acc: 0.8653 - val_loss: 0.4299 - val_acc: 0.8733\n",
            "Epoch 22/30\n",
            "150/150 [==============================] - 3s 17ms/step - loss: 0.3365 - acc: 0.8749 - val_loss: 0.5117 - val_acc: 0.8350\n",
            "Epoch 23/30\n",
            "150/150 [==============================] - 3s 18ms/step - loss: 0.3188 - acc: 0.8885 - val_loss: 0.4653 - val_acc: 0.8350\n",
            "Epoch 24/30\n",
            "150/150 [==============================] - 3s 17ms/step - loss: 0.3086 - acc: 0.8950 - val_loss: 0.5238 - val_acc: 0.8350\n",
            "Epoch 25/30\n",
            "150/150 [==============================] - 3s 18ms/step - loss: 0.3131 - acc: 0.8859 - val_loss: 0.4895 - val_acc: 0.8517\n",
            "Epoch 26/30\n",
            "150/150 [==============================] - 3s 18ms/step - loss: 0.2947 - acc: 0.8999 - val_loss: 0.4798 - val_acc: 0.8450\n",
            "Epoch 27/30\n",
            "150/150 [==============================] - 3s 17ms/step - loss: 0.2646 - acc: 0.8995 - val_loss: 0.5125 - val_acc: 0.8500\n",
            "Epoch 28/30\n",
            "150/150 [==============================] - 3s 18ms/step - loss: 0.2489 - acc: 0.9104 - val_loss: 0.5497 - val_acc: 0.8383\n",
            "Epoch 29/30\n",
            "150/150 [==============================] - 3s 17ms/step - loss: 0.2583 - acc: 0.9055 - val_loss: 0.5765 - val_acc: 0.8450\n",
            "Epoch 30/30\n",
            "150/150 [==============================] - 3s 17ms/step - loss: 0.2555 - acc: 0.9071 - val_loss: 0.5042 - val_acc: 0.8450\n",
            "acc = 0.9096666574478149\n",
            "val_acc =  0.8450000286102295\n",
            "loss = 0.2528376281261444\n",
            "val_loss = 0.5042228698730469\n"
          ],
          "name": "stdout"
        },
        {
          "output_type": "display_data",
          "data": {
            "image/png": "[encoded data removed]",
            "text/plain": [
              "<Figure size 432x288 with 2 Axes>"
            ]
          },
          "metadata": {
            "tags": [],
            "needs_background": "light"
          }
        }
      ]
    },
    {
      "cell_type": "code",
      "metadata": {
        "colab": {
          "base_uri": "https://localhost:8080/"
        },
        "id": "vUHJf7zURMwH",
        "outputId": "664f1d55-4880-4c41-dd1c-307dfadddf76"
      },
      "source": [
        "!zip -r cifar100-son.zip cifar100-son"
      ],
      "execution_count": null,
      "outputs": [
        {
          "output_type": "stream",
          "text": [
            "updating: cifar100-son/ (stored 0%)\n",
            "  adding: cifar100-son/training3.log (deflated 53%)\n",
            "  adding: cifar100-son/model/ (stored 0%)\n",
            "  adding: cifar100-son/model/.ipynb_checkpoints/ (stored 0%)\n",
            "  adding: cifar100-son/model/best_model3.h5 (deflated 13%)\n",
            "  adding: cifar100-son/model/best_model2.h5 (deflated 13%)\n",
            "  adding: cifar100-son/training2.log (deflated 54%)\n"
          ],
          "name": "stdout"
        }
      ]
    },
    {
      "cell_type": "code",
      "metadata": {
        "id": "P0mG4rzfUXt7"
      },
      "source": [
        "!cp cifar100-son.zip /content/drive/MyDrive/Works/Deep_Learning/Cifar100/"
      ],
      "execution_count": null,
      "outputs": []
    },
    {
      "cell_type": "code",
      "metadata": {
        "id": "P8Fjr-u1UfIO"
      },
      "source": [
        ""
      ],
      "execution_count": null,
      "outputs": []
    }
  ]
}