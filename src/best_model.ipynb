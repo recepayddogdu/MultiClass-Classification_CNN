{
  "nbformat": 4,
  "nbformat_minor": 0,
  "metadata": {
    "colab": {
      "name": "Cifar100.ipynb",
      "provenance": [],
      "collapsed_sections": []
    },
    "kernelspec": {
      "name": "python3",
      "display_name": "Python 3"
    },
    "accelerator": "GPU"
  },
  "cells": [
    {
      "cell_type": "code",
      "metadata": {
        "id": "OTMU6DULKooo"
      },
      "source": [
        "#/content/drive/MyDrive/Works/Deep_Learning/Cifar100/data\n",
        "!cp -r /content/drive/MyDrive/Works/Deep_Learning/Cifar100/data.zip .\n",
        "!unzip -q data.zip \n",
        "!rm data.zip"
      ],
      "execution_count": 1,
      "outputs": []
    },
    {
      "cell_type": "code",
      "metadata": {
        "id": "EIie1g5STFBC",
        "colab": {
          "base_uri": "https://localhost:8080/",
          "height": 1000
        },
        "outputId": "0ddf54f5-f23f-433f-efaf-69368af1fae8"
      },
      "source": [
        "from tensorflow.keras.preprocessing.image import ImageDataGenerator\n",
        "from tensorflow.keras.preprocessing import image\n",
        "from matplotlib import pyplot as plt\n",
        "from keras.datasets import cifar100\n",
        "from keras import layers\n",
        "from keras import models\n",
        "import tensorflow as tf\n",
        "import numpy as np\n",
        "import cv2\n",
        "import os\n",
        "from keras import optimizers\n",
        "from keras.callbacks import CSVLogger\n",
        "\n",
        "\n",
        "train_dir='data/train'\n",
        "test_dir='data/test'\n",
        "\n",
        "model=models.Sequential()\n",
        "\n",
        "model.add(layers.Conv2D(32,(3,3),\n",
        "                        padding='same',\n",
        "                        activation='relu',\n",
        "                        input_shape=(32,32,3)))\n",
        "\n",
        "model.add(layers.Conv2D(32,(3, 3),\n",
        "                         padding='same',\n",
        "                         activation='relu'))\n",
        "\n",
        "model.add(layers.MaxPooling2D((2, 2)))\n",
        "\n",
        "model.add(layers.Conv2D(64,(3, 3),\n",
        "                         padding='same',\n",
        "                         activation='relu'))\n",
        "\n",
        "model.add(layers.Conv2D(64,(3,3),\n",
        "                        padding='same',\n",
        "                        activation='relu'))\n",
        "\n",
        "model.add(layers.MaxPooling2D((2, 2)))\n",
        "\n",
        "model.add(layers.Dropout(0.5))\n",
        "\n",
        "#Dense layer:\n",
        "model.add(layers.Flatten())\n",
        "\n",
        "model.add(layers.Dense(256, activation='relu'))\n",
        "\n",
        "model.add(layers.Dense(6, activation='softmax'))\n",
        "\n",
        "model.compile(loss='categorical_crossentropy', \n",
        "              optimizer=optimizers.Adamax(lr=5e-4), \n",
        "              metrics=['acc'])\n",
        "\n",
        "#dizayn edilen modelin içinde kaç tane parametre var onu görmemizi sağlar\n",
        "print(model.summary())\n",
        "\n",
        "train_datagen=ImageDataGenerator(rescale=1./255)\n",
        "test_datagen= ImageDataGenerator(rescale=1./255)\n",
        "\n",
        "\n",
        "\n",
        "datagen_aug = ImageDataGenerator(\n",
        "              zoom_range=0.2,\n",
        "              horizontal_flip=True,\n",
        "              rescale=1./255)\n",
        "\n",
        "datagen = ImageDataGenerator(rescale = 1./255)\n",
        "\n",
        "train_generator = datagen_aug.flow_from_directory(train_dir,\n",
        "                                          target_size = (32,32),\n",
        "                                          batch_size =20,\n",
        "                                          class_mode = 'categorical')\n",
        " \n",
        "test_generator = datagen_aug.flow_from_directory(test_dir,\n",
        "                                          target_size = (32,32),\n",
        "                                          batch_size = 20,\n",
        "                                          class_mode = 'categorical')\n",
        "\n",
        "#csv_logger = CSVLogger('model/training_end.log', separator=',', append=False)\n",
        "\n",
        "history = model.fit_generator(train_generator,\n",
        "                              steps_per_epoch=150,\n",
        "                              epochs=30,\n",
        "                              #callbacks=[csv_logger],\n",
        "                              validation_data=test_generator,\n",
        "                              validation_steps=30) \n",
        "\n",
        "model.save('cifar100-son/model/best_model_end.h5')\n",
        "\n",
        "def plot_acc_loss(x):  \n",
        "  acc = x.history[\"acc\"]\n",
        "  val_acc = x.history[\"val_acc\"]\n",
        "  loss = x.history[\"loss\"]\n",
        "  val_loss = x.history[\"val_loss\"]\n",
        "  print(\"acc =\", acc[-1])\n",
        "  print(\"val_acc = \", val_acc[-1])\n",
        "  print(\"loss =\", loss[-1])\n",
        "  print(\"val_loss =\", val_loss[-1])\n",
        "  epochs = range(1, len(acc) + 1)\n",
        "  fig = plt.figure()\n",
        "  plt.subplot(2,1,1)\n",
        "  plt.plot(epochs, acc, \"bo\", label=\"Training acc\")\n",
        "  plt.plot(epochs, val_acc, \"b\", label=\"Validation acc\")\n",
        "  plt.xlabel(\"Epochs\")\n",
        "  plt.ylabel(\"Accuracy\")\n",
        "  plt.title(\"Training and Validation Accuracy\")\n",
        "\n",
        "  plt.subplot(2,1,2)\n",
        "  plt.plot(epochs, loss, \"bo\", label=\"Training loss\")\n",
        "  plt.plot(epochs, val_loss, \"b\", label=\"Validation loss\")\n",
        "  plt.title(\"Training and Validation Loss\")\n",
        "  plt.xlabel(\"Epochs\")\n",
        "  plt.ylabel(\"Loss\")\n",
        "  plt.legend()\n",
        "  fig.tight_layout()\n",
        "  plt.show()\n",
        "  fig.savefig(\"cifar100-son/graph.png\")\n",
        "  \n",
        "\n",
        "plot_acc_loss(history)"
      ],
      "execution_count": 2,
      "outputs": [
        {
          "output_type": "stream",
          "text": [
            "Model: \"sequential\"\n",
            "_________________________________________________________________\n",
            "Layer (type)                 Output Shape              Param #   \n",
            "=================================================================\n",
            "conv2d (Conv2D)              (None, 32, 32, 32)        896       \n",
            "_________________________________________________________________\n",
            "conv2d_1 (Conv2D)            (None, 32, 32, 32)        9248      \n",
            "_________________________________________________________________\n",
            "max_pooling2d (MaxPooling2D) (None, 16, 16, 32)        0         \n",
            "_________________________________________________________________\n",
            "conv2d_2 (Conv2D)            (None, 16, 16, 64)        18496     \n",
            "_________________________________________________________________\n",
            "conv2d_3 (Conv2D)            (None, 16, 16, 64)        36928     \n",
            "_________________________________________________________________\n",
            "max_pooling2d_1 (MaxPooling2 (None, 8, 8, 64)          0         \n",
            "_________________________________________________________________\n",
            "dropout (Dropout)            (None, 8, 8, 64)          0         \n",
            "_________________________________________________________________\n",
            "flatten (Flatten)            (None, 4096)              0         \n",
            "_________________________________________________________________\n",
            "dense (Dense)                (None, 256)               1048832   \n",
            "_________________________________________________________________\n",
            "dense_1 (Dense)              (None, 6)                 1542      \n",
            "=================================================================\n",
            "Total params: 1,115,942\n",
            "Trainable params: 1,115,942\n",
            "Non-trainable params: 0\n",
            "_________________________________________________________________\n",
            "None\n",
            "Found 3000 images belonging to 6 classes.\n",
            "Found 600 images belonging to 6 classes.\n"
          ],
          "name": "stdout"
        },
        {
          "output_type": "stream",
          "text": [
            "/usr/local/lib/python3.6/dist-packages/tensorflow/python/keras/engine/training.py:1844: UserWarning: `Model.fit_generator` is deprecated and will be removed in a future version. Please use `Model.fit`, which supports generators.\n",
            "  warnings.warn('`Model.fit_generator` is deprecated and '\n"
          ],
          "name": "stderr"
        },
        {
          "output_type": "stream",
          "text": [
            "Epoch 1/30\n",
            "150/150 [==============================] - 10s 21ms/step - loss: 1.5830 - acc: 0.3317 - val_loss: 1.1951 - val_acc: 0.5417\n",
            "Epoch 2/30\n",
            "150/150 [==============================] - 3s 18ms/step - loss: 1.1882 - acc: 0.5336 - val_loss: 1.0224 - val_acc: 0.6217\n",
            "Epoch 3/30\n",
            "150/150 [==============================] - 3s 18ms/step - loss: 1.0554 - acc: 0.6008 - val_loss: 0.9330 - val_acc: 0.6600\n",
            "Epoch 4/30\n",
            "150/150 [==============================] - 3s 18ms/step - loss: 0.9072 - acc: 0.6635 - val_loss: 0.8862 - val_acc: 0.6733\n",
            "Epoch 5/30\n",
            "150/150 [==============================] - 3s 18ms/step - loss: 0.8713 - acc: 0.6748 - val_loss: 0.8073 - val_acc: 0.7083\n",
            "Epoch 6/30\n",
            "150/150 [==============================] - 3s 18ms/step - loss: 0.8204 - acc: 0.7045 - val_loss: 0.7814 - val_acc: 0.6967\n",
            "Epoch 7/30\n",
            "150/150 [==============================] - 3s 18ms/step - loss: 0.7670 - acc: 0.7147 - val_loss: 0.7233 - val_acc: 0.7450\n",
            "Epoch 8/30\n",
            "150/150 [==============================] - 3s 18ms/step - loss: 0.7376 - acc: 0.7305 - val_loss: 0.6846 - val_acc: 0.7567\n",
            "Epoch 9/30\n",
            "150/150 [==============================] - 3s 18ms/step - loss: 0.6831 - acc: 0.7595 - val_loss: 0.7245 - val_acc: 0.7433\n",
            "Epoch 10/30\n",
            "150/150 [==============================] - 3s 18ms/step - loss: 0.7222 - acc: 0.7366 - val_loss: 0.6686 - val_acc: 0.7783\n",
            "Epoch 11/30\n",
            "150/150 [==============================] - 3s 18ms/step - loss: 0.6605 - acc: 0.7700 - val_loss: 0.6469 - val_acc: 0.7850\n",
            "Epoch 12/30\n",
            "150/150 [==============================] - 3s 18ms/step - loss: 0.6358 - acc: 0.7733 - val_loss: 0.6537 - val_acc: 0.7650\n",
            "Epoch 13/30\n",
            "150/150 [==============================] - 3s 18ms/step - loss: 0.6324 - acc: 0.7912 - val_loss: 0.6007 - val_acc: 0.7950\n",
            "Epoch 14/30\n",
            "150/150 [==============================] - 3s 18ms/step - loss: 0.6272 - acc: 0.7797 - val_loss: 0.5914 - val_acc: 0.7933\n",
            "Epoch 15/30\n",
            "150/150 [==============================] - 3s 18ms/step - loss: 0.5729 - acc: 0.7982 - val_loss: 0.6495 - val_acc: 0.7733\n",
            "Epoch 16/30\n",
            "150/150 [==============================] - 3s 18ms/step - loss: 0.6089 - acc: 0.7960 - val_loss: 0.6031 - val_acc: 0.8033\n",
            "Epoch 17/30\n",
            "150/150 [==============================] - 3s 18ms/step - loss: 0.5850 - acc: 0.7907 - val_loss: 0.5886 - val_acc: 0.7767\n",
            "Epoch 18/30\n",
            "150/150 [==============================] - 3s 18ms/step - loss: 0.5725 - acc: 0.7918 - val_loss: 0.5849 - val_acc: 0.8050\n",
            "Epoch 19/30\n",
            "150/150 [==============================] - 3s 18ms/step - loss: 0.5131 - acc: 0.8110 - val_loss: 0.5615 - val_acc: 0.8117\n",
            "Epoch 20/30\n",
            "150/150 [==============================] - 3s 18ms/step - loss: 0.5171 - acc: 0.8154 - val_loss: 0.5540 - val_acc: 0.8183\n",
            "Epoch 21/30\n",
            "150/150 [==============================] - 3s 18ms/step - loss: 0.5446 - acc: 0.8097 - val_loss: 0.5711 - val_acc: 0.8033\n",
            "Epoch 22/30\n",
            "150/150 [==============================] - 3s 18ms/step - loss: 0.5350 - acc: 0.8090 - val_loss: 0.5294 - val_acc: 0.8300\n",
            "Epoch 23/30\n",
            "150/150 [==============================] - 3s 18ms/step - loss: 0.4977 - acc: 0.8280 - val_loss: 0.5681 - val_acc: 0.8100\n",
            "Epoch 24/30\n",
            "150/150 [==============================] - 3s 17ms/step - loss: 0.5090 - acc: 0.8187 - val_loss: 0.5250 - val_acc: 0.8383\n",
            "Epoch 25/30\n",
            "150/150 [==============================] - 3s 18ms/step - loss: 0.4604 - acc: 0.8342 - val_loss: 0.5289 - val_acc: 0.8400\n",
            "Epoch 26/30\n",
            "150/150 [==============================] - 3s 18ms/step - loss: 0.4784 - acc: 0.8208 - val_loss: 0.5308 - val_acc: 0.8283\n",
            "Epoch 27/30\n",
            "150/150 [==============================] - 3s 18ms/step - loss: 0.4556 - acc: 0.8369 - val_loss: 0.5151 - val_acc: 0.8233\n",
            "Epoch 28/30\n",
            "150/150 [==============================] - 3s 18ms/step - loss: 0.4385 - acc: 0.8462 - val_loss: 0.5182 - val_acc: 0.8300\n",
            "Epoch 29/30\n",
            "150/150 [==============================] - 3s 19ms/step - loss: 0.4515 - acc: 0.8345 - val_loss: 0.5161 - val_acc: 0.8367\n",
            "Epoch 30/30\n",
            "150/150 [==============================] - 3s 18ms/step - loss: 0.4142 - acc: 0.8522 - val_loss: 0.4736 - val_acc: 0.8367\n",
            "acc = 0.8399999737739563\n",
            "val_acc =  0.8366666436195374\n",
            "loss = 0.44764450192451477\n",
            "val_loss = 0.47359251976013184\n"
          ],
          "name": "stdout"
        },
        {
          "output_type": "display_data",
          "data": {
            "image/png": "[encoded data removed]",
            "text/plain": [
              "<Figure size 432x288 with 2 Axes>"
            ]
          },
          "metadata": {
            "tags": [],
            "needs_background": "light"
          }
        }
      ]
    },
    {
      "cell_type": "code",
      "metadata": {
        "colab": {
          "base_uri": "https://localhost:8080/"
        },
        "id": "vUHJf7zURMwH",
        "outputId": "6d098178-234d-43ba-fff4-94c32410c26c"
      },
      "source": [
        "!zip -r cifar100-son.zip cifar100-son"
      ],
      "execution_count": 3,
      "outputs": [
        {
          "output_type": "stream",
          "text": [
            "  adding: cifar100-son/ (stored 0%)\n",
            "  adding: cifar100-son/model/ (stored 0%)\n",
            "  adding: cifar100-son/model/best_model_end.h5 (deflated 9%)\n",
            "  adding: cifar100-son/graph.png (deflated 5%)\n"
          ],
          "name": "stdout"
        }
      ]
    },
    {
      "cell_type": "code",
      "metadata": {
        "id": "P0mG4rzfUXt7"
      },
      "source": [
        "!cp cifar100-son.zip /content/drive/MyDrive/Works/Deep_Learning/Cifar100/"
      ],
      "execution_count": 4,
      "outputs": []
    },
    {
      "cell_type": "code",
      "metadata": {
        "id": "P8Fjr-u1UfIO"
      },
      "source": [
        ""
      ],
      "execution_count": null,
      "outputs": []
    }
  ]
}